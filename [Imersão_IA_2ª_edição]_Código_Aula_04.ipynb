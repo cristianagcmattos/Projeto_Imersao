{
  "nbformat": 4,
  "nbformat_minor": 0,
  "metadata": {
    "colab": {
      "provenance": [],
      "authorship_tag": "ABX9TyPeuAW5JbjUjPorVNGzDv5f",
      "include_colab_link": true
    },
    "kernelspec": {
      "name": "python3",
      "display_name": "Python 3"
    },
    "language_info": {
      "name": "python"
    }
  },
  "cells": [
    {
      "cell_type": "markdown",
      "metadata": {
        "id": "view-in-github",
        "colab_type": "text"
      },
      "source": [
        "<a href=\"https://colab.research.google.com/github/cristianagcmattos/Projeto_Imersao/blob/main/%5BImers%C3%A3o_IA_2%C2%AA_edi%C3%A7%C3%A3o%5D_C%C3%B3digo_Aula_04.ipynb\" target=\"_parent\"><img src=\"https://colab.research.google.com/assets/colab-badge.svg\" alt=\"Open In Colab\"/></a>"
      ]
    },
    {
      "cell_type": "markdown",
      "source": [
        "Instalando o SDK do Google"
      ],
      "metadata": {
        "id": "MuVCPncYtBdy"
      }
    },
    {
      "cell_type": "code",
      "execution_count": null,
      "metadata": {
        "id": "zq439MbafZMI"
      },
      "outputs": [],
      "source": [
        "!pip install -q -U google-generativeai"
      ]
    },
    {
      "cell_type": "markdown",
      "source": [
        "Configurações iniciais"
      ],
      "metadata": {
        "id": "8L6YMUBut4t4"
      }
    },
    {
      "cell_type": "code",
      "source": [
        "import google.generativeai as genai\n",
        "from google.colab import userdata\n",
        "api_key = userdata.get('SECRET_KEY')\n",
        "genai.configure(api_key=api_key)"
      ],
      "metadata": {
        "id": "QSOh16ZOt-Im"
      },
      "execution_count": null,
      "outputs": []
    },
    {
      "cell_type": "markdown",
      "source": [
        "Listando os modelos disponíveis\n",
        "\n",
        "- O **for**, vai fazer um loop (interação) e começar a passar em cada item que eu tenho dentro do conjunto que estou querendo acessar.\n",
        "- Os dois parênteses \"()\" são adcionados por que isso se trata de um método e todo **for**, exije os dois pontos \":\" no final\n",
        "- O **if** significa: se uma coisa acontecer\n",
        "- No if abaixo ele quer saber na variável m se os métodos de gerção suportados pela Google, têm esse campo, generate content (gerar conteúdo)\n",
        "- Se tiver, será impresso (mostrado) abaixo no print"
      ],
      "metadata": {
        "id": "T2qPtEPHucD3"
      }
    },
    {
      "cell_type": "code",
      "source": [
        "for m in genai.list_models():\n",
        "  if 'generateContent' in m.supported_generation_methods:\n",
        "    print(m.name)"
      ],
      "metadata": {
        "colab": {
          "base_uri": "https://localhost:8080/",
          "height": 139
        },
        "id": "dCiTFk2audg9",
        "outputId": "1823e8ee-aeb1-4f3d-ab6b-d82f3e303cce"
      },
      "execution_count": null,
      "outputs": [
        {
          "output_type": "stream",
          "name": "stdout",
          "text": [
            "models/gemini-1.0-pro\n",
            "models/gemini-1.0-pro-001\n",
            "models/gemini-1.0-pro-latest\n",
            "models/gemini-1.0-pro-vision-latest\n",
            "models/gemini-1.5-pro-latest\n",
            "models/gemini-pro\n",
            "models/gemini-pro-vision\n"
          ]
        }
      ]
    },
    {
      "cell_type": "markdown",
      "source": [
        "Configurando os parâmetros das configurações gerais\n",
        "\n",
        "- Os parâmetros adicionados na variável conf_gerais são colocados entre chaves \"{}\" e não precisam seguir uma ordem"
      ],
      "metadata": {
        "id": "gjT-rm0pyu2h"
      }
    },
    {
      "cell_type": "code",
      "source": [
        "config_gerais = {\n",
        "  'candidate_count': 1,\n",
        "  'temperature': 0.5,\n",
        "}"
      ],
      "metadata": {
        "id": "5zElP1sxyf6V"
      },
      "execution_count": null,
      "outputs": []
    },
    {
      "cell_type": "markdown",
      "source": [
        "Configurando os parâmetros de segurança"
      ],
      "metadata": {
        "id": "KYYyF1_rz4-z"
      }
    },
    {
      "cell_type": "code",
      "source": [
        "config_seguranca={\n",
        "    'HATE': 'BLOCK_NONE',\n",
        "    'HARASSMENT': 'BLOCK_NONE',\n",
        "    'SEXUAL' : 'BLOCK_NONE',\n",
        "    'DANGEROUS' : 'BLOCK_NONE'\n",
        "    }"
      ],
      "metadata": {
        "id": "FK4od1Ajz8Qw"
      },
      "execution_count": null,
      "outputs": []
    },
    {
      "cell_type": "markdown",
      "source": [
        "Inicializando o modelo\n",
        "\n",
        "- Vou inserir na variável **model_name** (qual versão do Gemini vou usar)\n",
        "- Depois, vamos inserir os parâmetros das configurações, basta inserir as variáveis para chamar os parâmetros no modelo."
      ],
      "metadata": {
        "id": "Uat3BslN3ReC"
      }
    },
    {
      "cell_type": "code",
      "source": [
        "model = genai.GenerativeModel(model_name='gemini-1.0-pro',\n",
        "                                  generation_config=config_gerais,\n",
        "                                  safety_settings=config_seguranca,)"
      ],
      "metadata": {
        "id": "-y7gw61-3V26"
      },
      "execution_count": null,
      "outputs": []
    },
    {
      "cell_type": "markdown",
      "source": [
        "Usando o modelo para exibir um texto\n",
        "\n",
        "- Podemos também usar no final o **print**(response.text)\n",
        "- O **.text** garante que ao trazer a resposta que venha somente o texto"
      ],
      "metadata": {
        "id": "35HrrRgk7xOk"
      }
    },
    {
      "cell_type": "code",
      "source": [
        "response = model.generate_content('Que empresa criou o modelo de IA Gemini?')\n",
        "response.text"
      ],
      "metadata": {
        "colab": {
          "base_uri": "https://localhost:8080/",
          "height": 35
        },
        "id": "8QNDsemd71K5",
        "outputId": "fdd5a2ec-92b9-4133-ff65-07181bbd0487"
      },
      "execution_count": null,
      "outputs": [
        {
          "output_type": "execute_result",
          "data": {
            "text/plain": [
              "'Google'"
            ],
            "application/vnd.google.colaboratory.intrinsic+json": {
              "type": "string"
            }
          },
          "metadata": {},
          "execution_count": 7
        }
      ]
    },
    {
      "cell_type": "markdown",
      "source": [
        "Criando o nosso chat para troca de mensagens\n",
        "\n",
        "- Na variável **chat** eu vou inserir o model (a variável que foi executada anteriormente e que contém o modelo que iremos usar)\n",
        "- Logo após insiro o \".\" e vai aparecer as opções. basta eu selecionar a start_chat (iniciar o chat)\n",
        "- O \"history\", vai trazer o histórico do chat\n",
        "- O uso do colchetes \"[]\", significa que vou trazer uma lista, neste caso, como ainda não tenho histórico, vai ficar vazio.\n",
        "- O “input” seria um campo aberto para ser inserido no caso, o prompt, logo após, podemos adicionar um texto ('Esperando prompt:')\n",
        "- O “while” (enquanto), significa que ele está esperando uma ação de uma certa condição que eu irei colocar e vai parar quando essa \"coisa\" for encontrada\n",
        "- O “!=” significa não for igual, diferente (enquanto nosso prompt não for \"fim\" ele vai continuar rodando), esse será o nosso ponto de parada\n",
        "- Assim como o \"for\", o \"while\" precisa ser finalizado com dois pontos \":\"\n",
        "- O \"response\" vai conter somente o parâmetro \"chat\" (ele já foi executado com o \"model\" anteriormente)\n",
        "- Após inserir o \".\", devo buscar nas opções o \"send_mensage\" (mandar a mensagem) e em seguida o \"prompt\" (o texto inserido no input, que foi salvo na variável prompt)\n",
        "- Depois, vamos exibir o texto usando o print e inserir nele um texto ('Resposta:'), depois, \"response.text\" (para a resposta vir só com texto) e o \"\\n\\n\" (para pular linha)\n",
        "- Para não ficar um loop infinito, devo inserir novamente o **prompt = input('Esperando prompt: ')**, neste caso, ele vai dar a resposta da pergunta inicial e depois aparecer novamente o input/campo para digitar o prompt\n",
        "- No exemplo usando, inserimos a pergunta: Qual é a capital do Japão Resposta: Tóquio, na pergunta seguinte: Qual é a comida típica desse país? Resposta: Sushi, ele já irá entender o contexto e me da a resposta baseada no histórico.\n",
        "- Eu posso continuar fazendo perguntas que ele sempre vai me retornar com a resposta e o input vazio para ser inserido mais perguntas, eles vai continuar rodando até eu inserir ni input a palavra \"fim\" comodefinimos anteriormente"
      ],
      "metadata": {
        "id": "oKSmjaj2HzDk"
      }
    },
    {
      "cell_type": "code",
      "source": [
        "chat = model.start_chat(history=[])\n",
        "\n",
        "prompt = input('Esperando prompt: ')\n",
        "\n",
        "while prompt != 'fim':\n",
        "  response = chat.send_message(prompt)\n",
        "  print('Resposta:', response.text, '\\n\\n')\n",
        "  prompt = input('Esperando prompt: ')"
      ],
      "metadata": {
        "colab": {
          "base_uri": "https://localhost:8080/",
          "height": 312
        },
        "id": "JdIcnF7k8wPo",
        "outputId": "dc6e69af-a14a-4612-f174-6165909a72c5"
      },
      "execution_count": null,
      "outputs": [
        {
          "name": "stdout",
          "output_type": "stream",
          "text": [
            "Esperando prompt: Qual é a capital do Japão\n",
            "Resposta: Tóquio \n",
            "\n",
            "\n",
            "Esperando prompt: Qual é a comida típica desse país\n",
            "Resposta: Sushi \n",
            "\n",
            "\n",
            "Esperando prompt: Meu primo nasceu nesta cidade. Qual é a nacionalidade dele?\n",
            "Resposta: Japonesa \n",
            "\n",
            "\n",
            "Esperando prompt: E qual é a população dessa cidade?\n",
            "Resposta: Tóquio: cerca de 13,9 milhões (2023) \n",
            "\n",
            "\n",
            "Esperando prompt: fim\n"
          ]
        }
      ]
    },
    {
      "cell_type": "markdown",
      "source": [
        "Mostrando a variável chat"
      ],
      "metadata": {
        "id": "UpGnsT_AbP9v"
      }
    },
    {
      "cell_type": "code",
      "source": [
        "chat"
      ],
      "metadata": {
        "colab": {
          "base_uri": "https://localhost:8080/"
        },
        "id": "aPBzR_2xbX66",
        "outputId": "7188f2ab-4008-4a04-c402-3799347ced65"
      },
      "execution_count": null,
      "outputs": [
        {
          "output_type": "execute_result",
          "data": {
            "text/plain": [
              "ChatSession(\n",
              "    model=genai.GenerativeModel(\n",
              "        model_name='models/gemini-1.0-pro',\n",
              "        generation_config={'candidate_count': 1, 'temperature': 0.5},\n",
              "        safety_settings={<HarmCategory.HARM_CATEGORY_HATE_SPEECH: 8>: <HarmBlockThreshold.BLOCK_NONE: 4>, <HarmCategory.HARM_CATEGORY_HARASSMENT: 7>: <HarmBlockThreshold.BLOCK_NONE: 4>, <HarmCategory.HARM_CATEGORY_SEXUALLY_EXPLICIT: 9>: <HarmBlockThreshold.BLOCK_NONE: 4>, <HarmCategory.HARM_CATEGORY_DANGEROUS_CONTENT: 10>: <HarmBlockThreshold.BLOCK_NONE: 4>},\n",
              "        tools=None,\n",
              "        system_instruction=None,\n",
              "    ),\n",
              "    history=[glm.Content({'parts': [{'text': 'Qual é a capital do Japão'}], 'role': 'user'}), glm.Content({'parts': [{'text': 'Tóquio'}], 'role': 'model'}), glm.Content({'parts': [{'text': 'Qual é a com...ca desse país'}], 'role': 'user'}), glm.Content({'parts': [{'text': 'Sushi'}], 'role': 'model'}), glm.Content({'parts': [{'text': 'Meu primo na...alidade dele?'}], 'role': 'user'}), glm.Content({'parts': [{'text': 'Japonesa'}], 'role': 'model'}), glm.Content({'parts': [{'text': 'E qual é a p...dessa cidade?'}], 'role': 'user'}), glm.Content({'parts': [{'text': 'Tóquio: cerc...ilhões (2023)'}], 'role': 'model'})]\n",
              ")"
            ]
          },
          "metadata": {},
          "execution_count": 9
        }
      ]
    },
    {
      "cell_type": "markdown",
      "source": [
        "Visualizando somente o histórico do chat"
      ],
      "metadata": {
        "id": "FSPGmrAnbh1Z"
      }
    },
    {
      "cell_type": "code",
      "source": [
        "chat.history"
      ],
      "metadata": {
        "colab": {
          "base_uri": "https://localhost:8080/"
        },
        "id": "dNp5a-KLblYC",
        "outputId": "95f789f3-b87d-4f5d-deca-eea63a0f7bd7"
      },
      "execution_count": null,
      "outputs": [
        {
          "output_type": "execute_result",
          "data": {
            "text/plain": [
              "[parts {\n",
              "   text: \"Qual \\303\\251 a capital do Jap\\303\\243o\"\n",
              " }\n",
              " role: \"user\",\n",
              " parts {\n",
              "   text: \"T\\303\\263quio\"\n",
              " }\n",
              " role: \"model\",\n",
              " parts {\n",
              "   text: \"Qual \\303\\251 a comida t\\303\\255pica desse pa\\303\\255s\"\n",
              " }\n",
              " role: \"user\",\n",
              " parts {\n",
              "   text: \"Sushi\"\n",
              " }\n",
              " role: \"model\",\n",
              " parts {\n",
              "   text: \"Meu primo nasceu nesta cidade. Qual \\303\\251 a nacionalidade dele?\"\n",
              " }\n",
              " role: \"user\",\n",
              " parts {\n",
              "   text: \"Japonesa\"\n",
              " }\n",
              " role: \"model\",\n",
              " parts {\n",
              "   text: \"E qual \\303\\251 a popula\\303\\247\\303\\243o dessa cidade?\"\n",
              " }\n",
              " role: \"user\",\n",
              " parts {\n",
              "   text: \"T\\303\\263quio: cerca de 13,9 milh\\303\\265es (2023)\"\n",
              " }\n",
              " role: \"model\"]"
            ]
          },
          "metadata": {},
          "execution_count": 10
        }
      ]
    },
    {
      "cell_type": "code",
      "source": [],
      "metadata": {
        "id": "L4LaAvZybhL_"
      },
      "execution_count": null,
      "outputs": []
    },
    {
      "cell_type": "markdown",
      "source": [
        "Melhorando a visualização\n",
        "\n",
        "- Código disponível em https://ai.google.dev/tutorials/python_quickstart#import_packages\n",
        "\n",
        "**Importações:**\n",
        "\n",
        "**textwrap:** Módulo para formatação de texto, incluindo quebra de linhas longas.\n",
        "\n",
        "**IPython.display:** Módulo específico para ambientes IPython, fornecendo funções para exibir conteúdo dentro do notebook. Pode não ser necessário em um ambiente Python padrão.\n",
        "\n",
        "**Definição de função:**\n",
        "\n",
        "to_markdown(texto):\n",
        "Recebe uma string de texto como entrada e realiza formatação.\n",
        "- Substitui marcadores de ponto (denotados por '•') por asteriscos ('*') para melhor apresentação em formato Markdown.\n",
        "- Usa textwrap.indent para indentação do texto com '> ' em cada linha.\n",
        "- Provavelmente utiliza IPython.display.Markdown para converter o texto formatado para Markdown (linguagem de marcação para formatação de texto). No entanto, essa parte pode não ser relevante fora de um ambiente IPython.\n",
        "\n",
        "**Impressão do histórico de bate-papo:**\n",
        "\n",
        "- O código assume a existência de uma variável chamada chat.history, que presumivelmente contém uma lista de mensagens de bate-papo.\n",
        "- Ele itera por cada mensagem em chat.history.\n",
        "- Dentro do loop, chama a função to_markdown para formatar a mensagem atual.\n",
        "- A mensagem formatada provavelmente é exibida usando IPython.display (relevante em ambientes IPython).\n",
        "- Uma linha separadora (-------------------------------------------) é impressa para melhor legibilidade entre as mensagens.\n",
        "\n",
        "**Em resumo:**\n",
        "\n",
        "Este trecho de código recupera o histórico de bate-papo (presumivelmente de uma variável chamada **chat.history**), formata cada mensagem usando a função **to_markdown** e imprime as mensagens formatadas com separadores. Ele utiliza funcionalidades potencialmente adequadas para um ambiente IPython. Se você estiver usando um ambiente Python padrão, pode ser necessário ajustar a parte de exibição para utilizar métodos de impressão padrão.\n",
        "\n",
        "**Observações:**\n",
        "\n",
        "- A parte da importação e da função **to_markdown** utiliza funcionalidades específicas para IPython, que podem não ser diretamente compatíveis com um ambiente Python padrão.\n",
        "- A impressão do histórico de bate-papo assume a existência de uma variável chat.history contendo as mensagens.\n",
        "- Se você pretende executar este código em um ambiente Python padrão, pode ser necessário adaptar as importações, a definição da função e a impressão do histórico de acordo com suas necessidades e bibliotecas disponíveis."
      ],
      "metadata": {
        "id": "zgtYR5jyYdTR"
      }
    },
    {
      "cell_type": "code",
      "source": [
        "import textwrap\n",
        "from IPython.display import display\n",
        "from IPython.display import Markdown\n",
        "\n",
        "def to_markdown(text):\n",
        "  text = text.replace('•', '  *')\n",
        "  return Markdown(textwrap.indent(text, '> ', predicate=lambda _: True))\n",
        "\n",
        "#Imprimindo o histórico\n",
        "for message in chat.history:\n",
        "  display(to_markdown(f'**{message.role}**: {message.parts[0].text}'))\n",
        "  print('-------------------------------------------')"
      ],
      "metadata": {
        "colab": {
          "base_uri": "https://localhost:8080/",
          "height": 519
        },
        "id": "fqwd72gqYlLS",
        "outputId": "a32dbb1b-5c81-4bce-97d5-ac4b3cc65f9c"
      },
      "execution_count": null,
      "outputs": [
        {
          "output_type": "display_data",
          "data": {
            "text/plain": [
              "<IPython.core.display.Markdown object>"
            ],
            "text/markdown": "> **user**: Qual é a capital do Japão"
          },
          "metadata": {}
        },
        {
          "output_type": "stream",
          "name": "stdout",
          "text": [
            "-------------------------------------------\n"
          ]
        },
        {
          "output_type": "display_data",
          "data": {
            "text/plain": [
              "<IPython.core.display.Markdown object>"
            ],
            "text/markdown": "> **model**: Tóquio"
          },
          "metadata": {}
        },
        {
          "output_type": "stream",
          "name": "stdout",
          "text": [
            "-------------------------------------------\n"
          ]
        },
        {
          "output_type": "display_data",
          "data": {
            "text/plain": [
              "<IPython.core.display.Markdown object>"
            ],
            "text/markdown": "> **user**: Qual é a comida típica desse país"
          },
          "metadata": {}
        },
        {
          "output_type": "stream",
          "name": "stdout",
          "text": [
            "-------------------------------------------\n"
          ]
        },
        {
          "output_type": "display_data",
          "data": {
            "text/plain": [
              "<IPython.core.display.Markdown object>"
            ],
            "text/markdown": "> **model**: Sushi"
          },
          "metadata": {}
        },
        {
          "output_type": "stream",
          "name": "stdout",
          "text": [
            "-------------------------------------------\n"
          ]
        },
        {
          "output_type": "display_data",
          "data": {
            "text/plain": [
              "<IPython.core.display.Markdown object>"
            ],
            "text/markdown": "> **user**: Meu primo nasceu nesta cidade. Qual é a nacionalidade dele?"
          },
          "metadata": {}
        },
        {
          "output_type": "stream",
          "name": "stdout",
          "text": [
            "-------------------------------------------\n"
          ]
        },
        {
          "output_type": "display_data",
          "data": {
            "text/plain": [
              "<IPython.core.display.Markdown object>"
            ],
            "text/markdown": "> **model**: Japonesa"
          },
          "metadata": {}
        },
        {
          "output_type": "stream",
          "name": "stdout",
          "text": [
            "-------------------------------------------\n"
          ]
        },
        {
          "output_type": "display_data",
          "data": {
            "text/plain": [
              "<IPython.core.display.Markdown object>"
            ],
            "text/markdown": "> **user**: E qual é a população dessa cidade?"
          },
          "metadata": {}
        },
        {
          "output_type": "stream",
          "name": "stdout",
          "text": [
            "-------------------------------------------\n"
          ]
        },
        {
          "output_type": "display_data",
          "data": {
            "text/plain": [
              "<IPython.core.display.Markdown object>"
            ],
            "text/markdown": "> **model**: Tóquio: cerca de 13,9 milhões (2023)"
          },
          "metadata": {}
        },
        {
          "output_type": "stream",
          "name": "stdout",
          "text": [
            "-------------------------------------------\n"
          ]
        }
      ]
    },
    {
      "cell_type": "code",
      "source": [],
      "metadata": {
        "id": "k-Wv0JEebPI0"
      },
      "execution_count": null,
      "outputs": []
    }
  ]
}